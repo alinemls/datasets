{
  "nbformat": 4,
  "nbformat_minor": 0,
  "metadata": {
    "colab": {
      "name": "Iris_Decision_Tree.ipynb",
      "provenance": [],
      "collapsed_sections": [],
      "include_colab_link": true
    },
    "kernelspec": {
      "name": "python3",
      "display_name": "Python 3"
    },
    "language_info": {
      "name": "python"
    }
  },
  "cells": [
    {
      "cell_type": "markdown",
      "metadata": {
        "id": "view-in-github",
        "colab_type": "text"
      },
      "source": [
        "<a href=\"https://colab.research.google.com/github/alinemls/datasets/blob/main/Iris_Decision_Tree_Testev13.ipynb\" target=\"_parent\"><img src=\"https://colab.research.google.com/assets/colab-badge.svg\" alt=\"Open In Colab\"/></a>"
      ]
    },
    {
      "cell_type": "markdown",
      "metadata": {
        "id": "NoNZstRskRmU"
      },
      "source": [
        "## Importação de Bibliotecas"
      ]
    },
    {
      "cell_type": "code",
      "metadata": {
        "id": "VXs325UPDDBE"
      },
      "source": [
        "import numpy as np\n",
        "import pandas as pd \n",
        "import seaborn as sns\n",
        "import cv2\n",
        "from numpy.core.numeric import NaN\n",
        "from sklearn.tree import DecisionTreeClassifier\n",
        "from sklearn.preprocessing import KBinsDiscretizer\n",
        "from sklearn.cluster import KMeans\n",
        "from sklearn.model_selection import train_test_split, GridSearchCV, cross_val_score\n",
        "from sklearn import metrics\n",
        "from mpl_toolkits.mplot3d import Axes3D\n",
        "from sklearn.tree import export_text\n",
        "from google.colab.patches import cv2_imshow\n",
        "from sklearn import preprocessing\n",
        "from scipy.stats import randint\n",
        "from mlxtend.plotting import plot_confusion_matrix\n",
        "from sklearn import tree\n",
        "import matplotlib.pyplot as plt\n",
        "import six\n",
        "import sys\n",
        "sys.modules['sklearn.externals.six'] = six\n",
        "from sklearn.metrics import roc_curve, roc_auc_score, f1_score, cohen_kappa_score as kappa, confusion_matrix, classification_report\n",
        "from IPython.display import Image\n",
        "from sklearn.externals.six import StringIO  \n",
        "import pydotplus\n",
        "%matplotlib inline"
      ],
      "execution_count": 899,
      "outputs": []
    },
    {
      "cell_type": "code",
      "source": [
        "n_base=\"iris\""
      ],
      "metadata": {
        "id": "bzGD-9P0Zybs"
      },
      "execution_count": 900,
      "outputs": []
    },
    {
      "cell_type": "code",
      "source": [
        "num_grupos=3"
      ],
      "metadata": {
        "id": "ACxfII4VVdLp"
      },
      "execution_count": 901,
      "outputs": []
    },
    {
      "cell_type": "code",
      "source": [
        "qtd_faixas = 5"
      ],
      "metadata": {
        "id": "oAZeOvplUQ38"
      },
      "execution_count": 902,
      "outputs": []
    },
    {
      "cell_type": "code",
      "source": [
        "t_discre = \"uniform\""
      ],
      "metadata": {
        "id": "fO07zFD4U8xn"
      },
      "execution_count": 903,
      "outputs": []
    },
    {
      "cell_type": "code",
      "source": [
        "qtd_teste = 0.3"
      ],
      "metadata": {
        "id": "TRjd_502VQFV"
      },
      "execution_count": 904,
      "outputs": []
    },
    {
      "cell_type": "code",
      "source": [
        "df = pd.read_csv('https://raw.githubusercontent.com/alinemls/datasets/main/iris.csv')\n",
        "df.head(5)"
      ],
      "metadata": {
        "id": "8K8qmhdBQwXU",
        "outputId": "6d3f1a85-037d-4525-c14d-fcfa365475df",
        "colab": {
          "base_uri": "https://localhost:8080/",
          "height": 206
        }
      },
      "execution_count": 905,
      "outputs": [
        {
          "output_type": "execute_result",
          "data": {
            "text/plain": [
              "   sepal.length  sepal.width  petal.length  petal.width variety\n",
              "0           5.1          3.5           1.4          0.2  Setosa\n",
              "1           4.9          3.0           1.4          0.2  Setosa\n",
              "2           4.7          3.2           1.3          0.2  Setosa\n",
              "3           4.6          3.1           1.5          0.2  Setosa\n",
              "4           5.0          3.6           1.4          0.2  Setosa"
            ],
            "text/html": [
              "\n",
              "  <div id=\"df-1326f898-e68a-4bd4-98ac-eea813e930be\">\n",
              "    <div class=\"colab-df-container\">\n",
              "      <div>\n",
              "<style scoped>\n",
              "    .dataframe tbody tr th:only-of-type {\n",
              "        vertical-align: middle;\n",
              "    }\n",
              "\n",
              "    .dataframe tbody tr th {\n",
              "        vertical-align: top;\n",
              "    }\n",
              "\n",
              "    .dataframe thead th {\n",
              "        text-align: right;\n",
              "    }\n",
              "</style>\n",
              "<table border=\"1\" class=\"dataframe\">\n",
              "  <thead>\n",
              "    <tr style=\"text-align: right;\">\n",
              "      <th></th>\n",
              "      <th>sepal.length</th>\n",
              "      <th>sepal.width</th>\n",
              "      <th>petal.length</th>\n",
              "      <th>petal.width</th>\n",
              "      <th>variety</th>\n",
              "    </tr>\n",
              "  </thead>\n",
              "  <tbody>\n",
              "    <tr>\n",
              "      <th>0</th>\n",
              "      <td>5.1</td>\n",
              "      <td>3.5</td>\n",
              "      <td>1.4</td>\n",
              "      <td>0.2</td>\n",
              "      <td>Setosa</td>\n",
              "    </tr>\n",
              "    <tr>\n",
              "      <th>1</th>\n",
              "      <td>4.9</td>\n",
              "      <td>3.0</td>\n",
              "      <td>1.4</td>\n",
              "      <td>0.2</td>\n",
              "      <td>Setosa</td>\n",
              "    </tr>\n",
              "    <tr>\n",
              "      <th>2</th>\n",
              "      <td>4.7</td>\n",
              "      <td>3.2</td>\n",
              "      <td>1.3</td>\n",
              "      <td>0.2</td>\n",
              "      <td>Setosa</td>\n",
              "    </tr>\n",
              "    <tr>\n",
              "      <th>3</th>\n",
              "      <td>4.6</td>\n",
              "      <td>3.1</td>\n",
              "      <td>1.5</td>\n",
              "      <td>0.2</td>\n",
              "      <td>Setosa</td>\n",
              "    </tr>\n",
              "    <tr>\n",
              "      <th>4</th>\n",
              "      <td>5.0</td>\n",
              "      <td>3.6</td>\n",
              "      <td>1.4</td>\n",
              "      <td>0.2</td>\n",
              "      <td>Setosa</td>\n",
              "    </tr>\n",
              "  </tbody>\n",
              "</table>\n",
              "</div>\n",
              "      <button class=\"colab-df-convert\" onclick=\"convertToInteractive('df-1326f898-e68a-4bd4-98ac-eea813e930be')\"\n",
              "              title=\"Convert this dataframe to an interactive table.\"\n",
              "              style=\"display:none;\">\n",
              "        \n",
              "  <svg xmlns=\"http://www.w3.org/2000/svg\" height=\"24px\"viewBox=\"0 0 24 24\"\n",
              "       width=\"24px\">\n",
              "    <path d=\"M0 0h24v24H0V0z\" fill=\"none\"/>\n",
              "    <path d=\"M18.56 5.44l.94 2.06.94-2.06 2.06-.94-2.06-.94-.94-2.06-.94 2.06-2.06.94zm-11 1L8.5 8.5l.94-2.06 2.06-.94-2.06-.94L8.5 2.5l-.94 2.06-2.06.94zm10 10l.94 2.06.94-2.06 2.06-.94-2.06-.94-.94-2.06-.94 2.06-2.06.94z\"/><path d=\"M17.41 7.96l-1.37-1.37c-.4-.4-.92-.59-1.43-.59-.52 0-1.04.2-1.43.59L10.3 9.45l-7.72 7.72c-.78.78-.78 2.05 0 2.83L4 21.41c.39.39.9.59 1.41.59.51 0 1.02-.2 1.41-.59l7.78-7.78 2.81-2.81c.8-.78.8-2.07 0-2.86zM5.41 20L4 18.59l7.72-7.72 1.47 1.35L5.41 20z\"/>\n",
              "  </svg>\n",
              "      </button>\n",
              "      \n",
              "  <style>\n",
              "    .colab-df-container {\n",
              "      display:flex;\n",
              "      flex-wrap:wrap;\n",
              "      gap: 12px;\n",
              "    }\n",
              "\n",
              "    .colab-df-convert {\n",
              "      background-color: #E8F0FE;\n",
              "      border: none;\n",
              "      border-radius: 50%;\n",
              "      cursor: pointer;\n",
              "      display: none;\n",
              "      fill: #1967D2;\n",
              "      height: 32px;\n",
              "      padding: 0 0 0 0;\n",
              "      width: 32px;\n",
              "    }\n",
              "\n",
              "    .colab-df-convert:hover {\n",
              "      background-color: #E2EBFA;\n",
              "      box-shadow: 0px 1px 2px rgba(60, 64, 67, 0.3), 0px 1px 3px 1px rgba(60, 64, 67, 0.15);\n",
              "      fill: #174EA6;\n",
              "    }\n",
              "\n",
              "    [theme=dark] .colab-df-convert {\n",
              "      background-color: #3B4455;\n",
              "      fill: #D2E3FC;\n",
              "    }\n",
              "\n",
              "    [theme=dark] .colab-df-convert:hover {\n",
              "      background-color: #434B5C;\n",
              "      box-shadow: 0px 1px 3px 1px rgba(0, 0, 0, 0.15);\n",
              "      filter: drop-shadow(0px 1px 2px rgba(0, 0, 0, 0.3));\n",
              "      fill: #FFFFFF;\n",
              "    }\n",
              "  </style>\n",
              "\n",
              "      <script>\n",
              "        const buttonEl =\n",
              "          document.querySelector('#df-1326f898-e68a-4bd4-98ac-eea813e930be button.colab-df-convert');\n",
              "        buttonEl.style.display =\n",
              "          google.colab.kernel.accessAllowed ? 'block' : 'none';\n",
              "\n",
              "        async function convertToInteractive(key) {\n",
              "          const element = document.querySelector('#df-1326f898-e68a-4bd4-98ac-eea813e930be');\n",
              "          const dataTable =\n",
              "            await google.colab.kernel.invokeFunction('convertToInteractive',\n",
              "                                                     [key], {});\n",
              "          if (!dataTable) return;\n",
              "\n",
              "          const docLinkHtml = 'Like what you see? Visit the ' +\n",
              "            '<a target=\"_blank\" href=https://colab.research.google.com/notebooks/data_table.ipynb>data table notebook</a>'\n",
              "            + ' to learn more about interactive tables.';\n",
              "          element.innerHTML = '';\n",
              "          dataTable['output_type'] = 'display_data';\n",
              "          await google.colab.output.renderOutput(dataTable, element);\n",
              "          const docLink = document.createElement('div');\n",
              "          docLink.innerHTML = docLinkHtml;\n",
              "          element.appendChild(docLink);\n",
              "        }\n",
              "      </script>\n",
              "    </div>\n",
              "  </div>\n",
              "  "
            ]
          },
          "metadata": {},
          "execution_count": 905
        }
      ]
    },
    {
      "cell_type": "code",
      "source": [
        "base_original=df\n",
        "print(\"=========> Base Original <=========\\n\",base_original)\n",
        "\n",
        "#print(\"Descrição dos Dados:\\n\", base_original.describe())\n",
        "\n",
        "# --> Remove nulls <--\n",
        "data = base_original.dropna()\n",
        "data = data.reset_index(drop = True)\n",
        "\n",
        "\n",
        "if(num_grupos == 0): #<><><><><> Se a classe for o grupo <><><><><><>\n",
        "  #print(data.columns[-1])\n",
        "  #data[data.columns[-1]] = data[data.columns[-1]].map({0:'X'}, na_action='ignore')\n",
        "  data[data.columns[-1]].replace(0, 'X', inplace = True)\n",
        "  att_classe = data.iloc[: , -1]\n",
        "  att_classe = att_classe.unique()\n",
        "  qtd_classes = 0\n",
        "  for item in att_classe:\n",
        "    #print(item,i)\n",
        "    #data.replace(to_replace=item, value=str(i))\n",
        "    #data[\"species\"].replace(\"setosa\",\"kjkj\", regex=True)\n",
        "    data[data.columns[-1]].replace({item: qtd_classes}, inplace=True)\n",
        "    qtd_classes = qtd_classes + 1\n",
        "  data.columns = [*data.columns[:-1], 'grupo']\n",
        "else:\n",
        "  # --> Apagar Colunas classe <--\n",
        "  if num_grupos > 0:\n",
        "    #att_classe = \"species\"\n",
        "    data = data.iloc[: , :-1] # Apaga o atributo classe (última coluna)\n",
        "\n",
        "\n",
        "# Apaga o atributo ID\n",
        "if 'ID' in data.columns:    \n",
        "  data = data.drop(columns=[\"ID\"]) \n",
        "if 'id' in data.columns: \n",
        "  data = data.drop(columns=[\"id\"]) \n",
        "\n",
        "base_original = data\n",
        "\n",
        "# --> Normalização <--\n",
        "colunas = list(data.columns.values)\n",
        "#print (colunas) \n",
        "#n_normalizacao = \"Sem Normalização\"\n",
        "#if(p_normalizacao == 1):\n",
        "#  data = scaler.fit_transform(data)\n",
        "#  n_normalizacao = \"Desvio Padrão\"\n",
        "#if(p_normalizacao == 2):\n",
        "#  data = trans.fit_transform(data)\n",
        "#  n_normalizacao = \"Escala 0-1\"\n",
        "\n",
        "data = pd.DataFrame(data, columns = colunas)\n",
        "\n",
        "print(\"\\n\\n\\n\")\n",
        "print(\"=========> Base Modificada <=========\\n\",data)\n",
        "#print(\"Descrição dos Dados:\\n\", data.describe())"
      ],
      "metadata": {
        "id": "6o4aD3n_WsK8",
        "outputId": "41f6cf68-cf7f-49f9-e8bb-19910c3043a4",
        "colab": {
          "base_uri": "https://localhost:8080/"
        }
      },
      "execution_count": 906,
      "outputs": [
        {
          "output_type": "stream",
          "name": "stdout",
          "text": [
            "=========> Base Original <=========\n",
            "      sepal.length  sepal.width  petal.length  petal.width    variety\n",
            "0             5.1          3.5           1.4          0.2     Setosa\n",
            "1             4.9          3.0           1.4          0.2     Setosa\n",
            "2             4.7          3.2           1.3          0.2     Setosa\n",
            "3             4.6          3.1           1.5          0.2     Setosa\n",
            "4             5.0          3.6           1.4          0.2     Setosa\n",
            "..            ...          ...           ...          ...        ...\n",
            "145           6.7          3.0           5.2          2.3  Virginica\n",
            "146           6.3          2.5           5.0          1.9  Virginica\n",
            "147           6.5          3.0           5.2          2.0  Virginica\n",
            "148           6.2          3.4           5.4          2.3  Virginica\n",
            "149           5.9          3.0           5.1          1.8  Virginica\n",
            "\n",
            "[150 rows x 5 columns]\n",
            "\n",
            "\n",
            "\n",
            "\n",
            "=========> Base Modificada <=========\n",
            "      sepal.length  sepal.width  petal.length  petal.width\n",
            "0             5.1          3.5           1.4          0.2\n",
            "1             4.9          3.0           1.4          0.2\n",
            "2             4.7          3.2           1.3          0.2\n",
            "3             4.6          3.1           1.5          0.2\n",
            "4             5.0          3.6           1.4          0.2\n",
            "..            ...          ...           ...          ...\n",
            "145           6.7          3.0           5.2          2.3\n",
            "146           6.3          2.5           5.0          1.9\n",
            "147           6.5          3.0           5.2          2.0\n",
            "148           6.2          3.4           5.4          2.3\n",
            "149           5.9          3.0           5.1          1.8\n",
            "\n",
            "[150 rows x 4 columns]\n"
          ]
        }
      ]
    },
    {
      "cell_type": "markdown",
      "source": [
        "## Carregamento e Preparação das Bases"
      ],
      "metadata": {
        "id": "38aHtngjdbaK"
      }
    },
    {
      "cell_type": "code",
      "metadata": {
        "id": "5T67ypEat1Gs"
      },
      "source": [
        "#df = pd.read_csv('https://raw.githubusercontent.com/alinemls/datasets/main/iris.csv')\n",
        "#df.head(5)"
      ],
      "execution_count": 907,
      "outputs": []
    },
    {
      "cell_type": "code",
      "source": [
        "#df.drop(labels=['Id'], axis=1, inplace=True, errors='ignore')"
      ],
      "metadata": {
        "id": "v2XSstF6RZNg"
      },
      "execution_count": 908,
      "outputs": []
    },
    {
      "cell_type": "code",
      "source": [
        "#df.head(5)"
      ],
      "metadata": {
        "id": "6nDn0e3RRcrZ"
      },
      "execution_count": 909,
      "outputs": []
    },
    {
      "cell_type": "code",
      "metadata": {
        "id": "2lhEP9nqMUGU"
      },
      "source": [
        "# Agrupamento pela identificação completa da planta\n",
        "#df.groupby('variety').size()"
      ],
      "execution_count": 910,
      "outputs": []
    },
    {
      "cell_type": "markdown",
      "source": [
        "##Preparação de Dados"
      ],
      "metadata": {
        "id": "BNN-I_rRgDOL"
      }
    },
    {
      "cell_type": "code",
      "source": [
        "#idCat,Cat = pd.factorize(df[\"variety\"])\n",
        "#idCat"
      ],
      "metadata": {
        "id": "uWcnqxumgr5V"
      },
      "execution_count": 911,
      "outputs": []
    },
    {
      "cell_type": "code",
      "source": [
        "#df['varietyCat']=idCat"
      ],
      "metadata": {
        "id": "EHVwwZr8jiVV"
      },
      "execution_count": 912,
      "outputs": []
    },
    {
      "cell_type": "code",
      "source": [
        "#df.head()"
      ],
      "metadata": {
        "id": "pNkWjr6Ij_7a"
      },
      "execution_count": 913,
      "outputs": []
    },
    {
      "cell_type": "code",
      "source": [
        "#del df[\"variety\"]"
      ],
      "metadata": {
        "id": "9BfEA9pOkWU-"
      },
      "execution_count": 914,
      "outputs": []
    },
    {
      "cell_type": "code",
      "source": [
        "#df.head()"
      ],
      "metadata": {
        "id": "kXmTTkDNkjs5"
      },
      "execution_count": 915,
      "outputs": []
    },
    {
      "cell_type": "markdown",
      "source": [
        "## Análise Exploratória"
      ],
      "metadata": {
        "id": "ck7df2jSlBxN"
      }
    },
    {
      "cell_type": "code",
      "source": [
        "df.info()"
      ],
      "metadata": {
        "colab": {
          "base_uri": "https://localhost:8080/"
        },
        "id": "n2-otl6nlGfp",
        "outputId": "e2fa3f1e-d510-45d9-8ccd-c488f8b178b7"
      },
      "execution_count": 916,
      "outputs": [
        {
          "output_type": "stream",
          "name": "stdout",
          "text": [
            "<class 'pandas.core.frame.DataFrame'>\n",
            "RangeIndex: 150 entries, 0 to 149\n",
            "Data columns (total 5 columns):\n",
            " #   Column        Non-Null Count  Dtype  \n",
            "---  ------        --------------  -----  \n",
            " 0   sepal.length  150 non-null    float64\n",
            " 1   sepal.width   150 non-null    float64\n",
            " 2   petal.length  150 non-null    float64\n",
            " 3   petal.width   150 non-null    float64\n",
            " 4   variety       150 non-null    object \n",
            "dtypes: float64(4), object(1)\n",
            "memory usage: 6.0+ KB\n"
          ]
        }
      ]
    },
    {
      "cell_type": "code",
      "source": [
        "df.describe()"
      ],
      "metadata": {
        "colab": {
          "base_uri": "https://localhost:8080/",
          "height": 300
        },
        "id": "8uonckP6lXfm",
        "outputId": "12cc98d3-c902-49a3-a3a1-88872758a9b8"
      },
      "execution_count": 917,
      "outputs": [
        {
          "output_type": "execute_result",
          "data": {
            "text/plain": [
              "       sepal.length  sepal.width  petal.length  petal.width\n",
              "count    150.000000   150.000000    150.000000   150.000000\n",
              "mean       5.843333     3.057333      3.758000     1.199333\n",
              "std        0.828066     0.435866      1.765298     0.762238\n",
              "min        4.300000     2.000000      1.000000     0.100000\n",
              "25%        5.100000     2.800000      1.600000     0.300000\n",
              "50%        5.800000     3.000000      4.350000     1.300000\n",
              "75%        6.400000     3.300000      5.100000     1.800000\n",
              "max        7.900000     4.400000      6.900000     2.500000"
            ],
            "text/html": [
              "\n",
              "  <div id=\"df-fe90afb0-507d-43a0-96ee-ce37f813baca\">\n",
              "    <div class=\"colab-df-container\">\n",
              "      <div>\n",
              "<style scoped>\n",
              "    .dataframe tbody tr th:only-of-type {\n",
              "        vertical-align: middle;\n",
              "    }\n",
              "\n",
              "    .dataframe tbody tr th {\n",
              "        vertical-align: top;\n",
              "    }\n",
              "\n",
              "    .dataframe thead th {\n",
              "        text-align: right;\n",
              "    }\n",
              "</style>\n",
              "<table border=\"1\" class=\"dataframe\">\n",
              "  <thead>\n",
              "    <tr style=\"text-align: right;\">\n",
              "      <th></th>\n",
              "      <th>sepal.length</th>\n",
              "      <th>sepal.width</th>\n",
              "      <th>petal.length</th>\n",
              "      <th>petal.width</th>\n",
              "    </tr>\n",
              "  </thead>\n",
              "  <tbody>\n",
              "    <tr>\n",
              "      <th>count</th>\n",
              "      <td>150.000000</td>\n",
              "      <td>150.000000</td>\n",
              "      <td>150.000000</td>\n",
              "      <td>150.000000</td>\n",
              "    </tr>\n",
              "    <tr>\n",
              "      <th>mean</th>\n",
              "      <td>5.843333</td>\n",
              "      <td>3.057333</td>\n",
              "      <td>3.758000</td>\n",
              "      <td>1.199333</td>\n",
              "    </tr>\n",
              "    <tr>\n",
              "      <th>std</th>\n",
              "      <td>0.828066</td>\n",
              "      <td>0.435866</td>\n",
              "      <td>1.765298</td>\n",
              "      <td>0.762238</td>\n",
              "    </tr>\n",
              "    <tr>\n",
              "      <th>min</th>\n",
              "      <td>4.300000</td>\n",
              "      <td>2.000000</td>\n",
              "      <td>1.000000</td>\n",
              "      <td>0.100000</td>\n",
              "    </tr>\n",
              "    <tr>\n",
              "      <th>25%</th>\n",
              "      <td>5.100000</td>\n",
              "      <td>2.800000</td>\n",
              "      <td>1.600000</td>\n",
              "      <td>0.300000</td>\n",
              "    </tr>\n",
              "    <tr>\n",
              "      <th>50%</th>\n",
              "      <td>5.800000</td>\n",
              "      <td>3.000000</td>\n",
              "      <td>4.350000</td>\n",
              "      <td>1.300000</td>\n",
              "    </tr>\n",
              "    <tr>\n",
              "      <th>75%</th>\n",
              "      <td>6.400000</td>\n",
              "      <td>3.300000</td>\n",
              "      <td>5.100000</td>\n",
              "      <td>1.800000</td>\n",
              "    </tr>\n",
              "    <tr>\n",
              "      <th>max</th>\n",
              "      <td>7.900000</td>\n",
              "      <td>4.400000</td>\n",
              "      <td>6.900000</td>\n",
              "      <td>2.500000</td>\n",
              "    </tr>\n",
              "  </tbody>\n",
              "</table>\n",
              "</div>\n",
              "      <button class=\"colab-df-convert\" onclick=\"convertToInteractive('df-fe90afb0-507d-43a0-96ee-ce37f813baca')\"\n",
              "              title=\"Convert this dataframe to an interactive table.\"\n",
              "              style=\"display:none;\">\n",
              "        \n",
              "  <svg xmlns=\"http://www.w3.org/2000/svg\" height=\"24px\"viewBox=\"0 0 24 24\"\n",
              "       width=\"24px\">\n",
              "    <path d=\"M0 0h24v24H0V0z\" fill=\"none\"/>\n",
              "    <path d=\"M18.56 5.44l.94 2.06.94-2.06 2.06-.94-2.06-.94-.94-2.06-.94 2.06-2.06.94zm-11 1L8.5 8.5l.94-2.06 2.06-.94-2.06-.94L8.5 2.5l-.94 2.06-2.06.94zm10 10l.94 2.06.94-2.06 2.06-.94-2.06-.94-.94-2.06-.94 2.06-2.06.94z\"/><path d=\"M17.41 7.96l-1.37-1.37c-.4-.4-.92-.59-1.43-.59-.52 0-1.04.2-1.43.59L10.3 9.45l-7.72 7.72c-.78.78-.78 2.05 0 2.83L4 21.41c.39.39.9.59 1.41.59.51 0 1.02-.2 1.41-.59l7.78-7.78 2.81-2.81c.8-.78.8-2.07 0-2.86zM5.41 20L4 18.59l7.72-7.72 1.47 1.35L5.41 20z\"/>\n",
              "  </svg>\n",
              "      </button>\n",
              "      \n",
              "  <style>\n",
              "    .colab-df-container {\n",
              "      display:flex;\n",
              "      flex-wrap:wrap;\n",
              "      gap: 12px;\n",
              "    }\n",
              "\n",
              "    .colab-df-convert {\n",
              "      background-color: #E8F0FE;\n",
              "      border: none;\n",
              "      border-radius: 50%;\n",
              "      cursor: pointer;\n",
              "      display: none;\n",
              "      fill: #1967D2;\n",
              "      height: 32px;\n",
              "      padding: 0 0 0 0;\n",
              "      width: 32px;\n",
              "    }\n",
              "\n",
              "    .colab-df-convert:hover {\n",
              "      background-color: #E2EBFA;\n",
              "      box-shadow: 0px 1px 2px rgba(60, 64, 67, 0.3), 0px 1px 3px 1px rgba(60, 64, 67, 0.15);\n",
              "      fill: #174EA6;\n",
              "    }\n",
              "\n",
              "    [theme=dark] .colab-df-convert {\n",
              "      background-color: #3B4455;\n",
              "      fill: #D2E3FC;\n",
              "    }\n",
              "\n",
              "    [theme=dark] .colab-df-convert:hover {\n",
              "      background-color: #434B5C;\n",
              "      box-shadow: 0px 1px 3px 1px rgba(0, 0, 0, 0.15);\n",
              "      filter: drop-shadow(0px 1px 2px rgba(0, 0, 0, 0.3));\n",
              "      fill: #FFFFFF;\n",
              "    }\n",
              "  </style>\n",
              "\n",
              "      <script>\n",
              "        const buttonEl =\n",
              "          document.querySelector('#df-fe90afb0-507d-43a0-96ee-ce37f813baca button.colab-df-convert');\n",
              "        buttonEl.style.display =\n",
              "          google.colab.kernel.accessAllowed ? 'block' : 'none';\n",
              "\n",
              "        async function convertToInteractive(key) {\n",
              "          const element = document.querySelector('#df-fe90afb0-507d-43a0-96ee-ce37f813baca');\n",
              "          const dataTable =\n",
              "            await google.colab.kernel.invokeFunction('convertToInteractive',\n",
              "                                                     [key], {});\n",
              "          if (!dataTable) return;\n",
              "\n",
              "          const docLinkHtml = 'Like what you see? Visit the ' +\n",
              "            '<a target=\"_blank\" href=https://colab.research.google.com/notebooks/data_table.ipynb>data table notebook</a>'\n",
              "            + ' to learn more about interactive tables.';\n",
              "          element.innerHTML = '';\n",
              "          dataTable['output_type'] = 'display_data';\n",
              "          await google.colab.output.renderOutput(dataTable, element);\n",
              "          const docLink = document.createElement('div');\n",
              "          docLink.innerHTML = docLinkHtml;\n",
              "          element.appendChild(docLink);\n",
              "        }\n",
              "      </script>\n",
              "    </div>\n",
              "  </div>\n",
              "  "
            ]
          },
          "metadata": {},
          "execution_count": 917
        }
      ]
    },
    {
      "cell_type": "code",
      "source": [
        "#sns.countplot(df[\"varietyCat\"])"
      ],
      "metadata": {
        "id": "S-nY1i20ltLZ"
      },
      "execution_count": 918,
      "outputs": []
    },
    {
      "cell_type": "code",
      "source": [
        "#sns.pairplot(df,hue=\"varietyCat\")"
      ],
      "metadata": {
        "id": "V0TuWwFGmfls"
      },
      "execution_count": 919,
      "outputs": []
    },
    {
      "cell_type": "code",
      "source": [
        "#sns.swarmplot (x=\"varietyCat\",y=\"petal.width\",data=df)"
      ],
      "metadata": {
        "id": "MD5XKKxun61V"
      },
      "execution_count": 920,
      "outputs": []
    },
    {
      "cell_type": "code",
      "source": [
        "#sns.swarmplot (x=\"varietyCat\",y=\"petal.length\",data=df)"
      ],
      "metadata": {
        "id": "11u8dvY1pD7T"
      },
      "execution_count": 921,
      "outputs": []
    },
    {
      "cell_type": "markdown",
      "source": [
        "##Agrupamento"
      ],
      "metadata": {
        "id": "rL8d369cKhg8"
      }
    },
    {
      "cell_type": "code",
      "source": [
        "if(num_grupos != 0): #<><><><><> Se a classe for o grupo <><><><><><>\n",
        "\n",
        "  data = base_original\n",
        "  \n",
        "  grupos = KMeans(num_grupos, random_state=0).fit(data)\n",
        "\n",
        "  data['grupo'] = grupos.labels_ # Cria uma coluna com o grupo de cada registro\n",
        "  print(\"====> Base com Grupos <====\\n\\n\",data)\n",
        "\n",
        "print('Quantidade de Registros em cada Grupo:\\n', data['grupo'].value_counts())"
      ],
      "metadata": {
        "id": "ZFK_79yOVYea",
        "outputId": "dcf68a1e-c7a3-4dac-9492-a170e413fd04",
        "colab": {
          "base_uri": "https://localhost:8080/"
        }
      },
      "execution_count": 922,
      "outputs": [
        {
          "output_type": "stream",
          "name": "stdout",
          "text": [
            "====> Base com Grupos <====\n",
            "\n",
            "      sepal.length  sepal.width  petal.length  petal.width  grupo\n",
            "0             5.1          3.5           1.4          0.2      1\n",
            "1             4.9          3.0           1.4          0.2      1\n",
            "2             4.7          3.2           1.3          0.2      1\n",
            "3             4.6          3.1           1.5          0.2      1\n",
            "4             5.0          3.6           1.4          0.2      1\n",
            "..            ...          ...           ...          ...    ...\n",
            "145           6.7          3.0           5.2          2.3      2\n",
            "146           6.3          2.5           5.0          1.9      0\n",
            "147           6.5          3.0           5.2          2.0      2\n",
            "148           6.2          3.4           5.4          2.3      2\n",
            "149           5.9          3.0           5.1          1.8      0\n",
            "\n",
            "[150 rows x 5 columns]\n",
            "Quantidade de Registros em cada Grupo:\n",
            " 0    62\n",
            "1    50\n",
            "2    38\n",
            "Name: grupo, dtype: int64\n"
          ]
        }
      ]
    },
    {
      "cell_type": "code",
      "source": [
        "#idCat,Cat = pd.factorize(df[\"varietyCat\"])\n",
        "#idCat\n",
        "#df['varietyCat']=idCat"
      ],
      "metadata": {
        "id": "gpHwO_L_Qbaf"
      },
      "execution_count": 923,
      "outputs": []
    },
    {
      "cell_type": "code",
      "source": [
        "#df.info()"
      ],
      "metadata": {
        "id": "I2iG5GjhPWxN"
      },
      "execution_count": 924,
      "outputs": []
    },
    {
      "cell_type": "code",
      "source": [
        "#df['varietyCat'].value_counts()"
      ],
      "metadata": {
        "id": "AaCdBX6gOnME"
      },
      "execution_count": 925,
      "outputs": []
    },
    {
      "cell_type": "code",
      "source": [
        "#clf = KMeans()\n",
        "#clf.fit(df)\n",
        "#clf.labels_"
      ],
      "metadata": {
        "id": "M6hHtUcnKkND"
      },
      "execution_count": 926,
      "outputs": []
    },
    {
      "cell_type": "code",
      "source": [
        "#print(classification_report(df['varietyCat'],clf.labels_))"
      ],
      "metadata": {
        "id": "r9fsqzhPNcLD"
      },
      "execution_count": 927,
      "outputs": []
    },
    {
      "cell_type": "code",
      "source": [
        "#print(confusion_matrix(df['varietyCat'],clf.labels_))"
      ],
      "metadata": {
        "id": "jMiUpLQwRqQs"
      },
      "execution_count": 928,
      "outputs": []
    },
    {
      "cell_type": "markdown",
      "source": [
        "##Decision Tree"
      ],
      "metadata": {
        "id": "3RewJA1jPTDK"
      }
    },
    {
      "cell_type": "code",
      "source": [
        "!pip install graphviz"
      ],
      "metadata": {
        "id": "sFfwl02TYQRb",
        "outputId": "98cc1c78-a3b6-46e2-fc6e-af90aea2831c",
        "colab": {
          "base_uri": "https://localhost:8080/"
        }
      },
      "execution_count": 929,
      "outputs": [
        {
          "output_type": "stream",
          "name": "stdout",
          "text": [
            "Requirement already satisfied: graphviz in /usr/local/lib/python3.7/dist-packages (0.10.1)\n"
          ]
        }
      ]
    },
    {
      "cell_type": "code",
      "source": [
        "import graphviz"
      ],
      "metadata": {
        "id": "Vj5lxBm9YZ6w"
      },
      "execution_count": 930,
      "outputs": []
    },
    {
      "cell_type": "code",
      "source": [
        "from sklearn.tree import export_graphviz"
      ],
      "metadata": {
        "id": "So3qJGqmZMhE"
      },
      "execution_count": 931,
      "outputs": []
    },
    {
      "cell_type": "code",
      "source": [
        "t_saida_arv = 1 # 1 --> Grafica  // 0 --> Texto\n",
        "\n",
        "#print(data)\n",
        "\n",
        "if qtd_faixas != 0:\n",
        "#<><><><><> Discretização <><><><><>\n",
        "  base = data.drop(columns=['grupo']) # Apaga o grupo\n",
        "  col_grupo = data[\"grupo\"]\n",
        "  col_nomes = list(base.columns)\n",
        "\n",
        "  enc = KBinsDiscretizer(n_bins=qtd_faixas, strategy=t_discre, encode=\"ordinal\")\n",
        "  base_d = enc.fit_transform(base)\n",
        "  base_d = pd.DataFrame(base_d,columns=col_nomes) \n",
        "  base_d['grupo'] = col_grupo\n",
        "\n",
        "  #base_d.apply(base_d.to_numeric, errors='ignore')\n",
        "  base_d = base_d.astype(str)\n",
        "\n",
        "  data = base_d\n",
        "  print(\"dados:\\n\",data)\n",
        "  print(data.info())\n",
        "\n",
        "\n",
        "i_col = data.columns.size \n",
        "\n",
        "print(i_col-1)\n",
        "\n",
        "treino, teste = train_test_split(data, test_size = qtd_teste)\n",
        "Y_train = treino.iloc[:, i_col-1]\n",
        "Y_teste = teste.iloc[:, i_col-1]\n",
        "X_train = treino.drop(treino.columns[i_col-1], axis=1)\n",
        "X_teste = teste.drop(teste.columns[i_col-1], axis=1)\n",
        "\n",
        "# Create Decision Tree classifer object\n",
        "clf = DecisionTreeClassifier()\n",
        "\n",
        "# Train Decision Tree Classifer\n",
        "clf = clf.fit(X_train,Y_train)\n",
        "\n",
        "#Predict the response for test dataset\n",
        "y_pred = clf.predict(X_teste)\n",
        "\n",
        "print(\"\\nAcurácia da Árvore:\",metrics.accuracy_score(Y_teste, y_pred), \"\\n\")\n",
        "\n",
        "feature_cols = X_teste.columns.to_list()\n",
        "class_names = Y_teste.unique()\n",
        "\n",
        "if(t_saida_arv == 1):\n",
        "  \n",
        "  acs = [str(x) for x in class_names]\n",
        "  dot_data = StringIO()\n",
        "  export_graphviz(clf, out_file=dot_data, filled=True, rounded=True, special_characters=True,feature_names = feature_cols,class_names=acs)\n",
        "  graph = pydotplus.graph_from_dot_data(dot_data.getvalue())  \n",
        "  graph.write_png(n_base+'.png')\n",
        "  Image(graph.create_png())\n",
        "  \n",
        "  img = cv2.imread(n_base+'.png')\n",
        "  cv2_imshow(img)\n",
        "\n",
        "else:\n",
        "    \n",
        "  tree_rules = export_text(clf, feature_names = feature_cols) \n",
        "  #print the result\n",
        "  print(tree_rules)\n",
        "\n",
        "print(feature_cols[clf.tree_.feature[0]])\n",
        "print(clf.tree_.threshold[0])"
      ],
      "metadata": {
        "id": "8jj3KuARPYDo",
        "outputId": "f202b878-fb14-41df-d6f8-f168b5c3ec7c",
        "colab": {
          "base_uri": "https://localhost:8080/",
          "height": 1000
        }
      },
      "execution_count": 932,
      "outputs": [
        {
          "output_type": "stream",
          "name": "stdout",
          "text": [
            "dados:\n",
            "     sepal.length sepal.width petal.length petal.width grupo\n",
            "0            1.0         3.0          0.0         0.0     1\n",
            "1            0.0         2.0          0.0         0.0     1\n",
            "2            0.0         2.0          0.0         0.0     1\n",
            "3            0.0         2.0          0.0         0.0     1\n",
            "4            0.0         3.0          0.0         0.0     1\n",
            "..           ...         ...          ...         ...   ...\n",
            "145          3.0         2.0          3.0         4.0     2\n",
            "146          2.0         1.0          3.0         3.0     0\n",
            "147          3.0         2.0          3.0         3.0     2\n",
            "148          2.0         2.0          3.0         4.0     2\n",
            "149          2.0         2.0          3.0         3.0     0\n",
            "\n",
            "[150 rows x 5 columns]\n",
            "<class 'pandas.core.frame.DataFrame'>\n",
            "RangeIndex: 150 entries, 0 to 149\n",
            "Data columns (total 5 columns):\n",
            " #   Column        Non-Null Count  Dtype \n",
            "---  ------        --------------  ----- \n",
            " 0   sepal.length  150 non-null    object\n",
            " 1   sepal.width   150 non-null    object\n",
            " 2   petal.length  150 non-null    object\n",
            " 3   petal.width   150 non-null    object\n",
            " 4   grupo         150 non-null    object\n",
            "dtypes: object(5)\n",
            "memory usage: 6.0+ KB\n",
            "None\n",
            "4\n",
            "\n",
            "Acurácia da Árvore: 0.9333333333333333 \n",
            "\n"
          ]
        },
        {
          "output_type": "display_data",
          "data": {
            "text/plain": [
              "<PIL.Image.Image image mode=RGB size=916x1053 at 0x7FB8105613D0>"
            ],
            "image/png": "[encoded data removed]"
          },
          "metadata": {}
        },
        {
          "output_type": "stream",
          "name": "stdout",
          "text": [
            "petal.length\n",
            "0.5\n"
          ]
        }
      ]
    },
    {
      "cell_type": "markdown",
      "source": [
        "##Divisão dos Dados em Treino e Teste"
      ],
      "metadata": {
        "id": "kyHTx87Ppsu1"
      }
    },
    {
      "cell_type": "code",
      "source": [
        "#X=df.drop(\"varietyCat\",axis=1)\n",
        "#y=df[\"varietyCat\"]\n",
        "#X_train,X_test,y_train,y_test = train_test_split(X,y,test_size=0.2,random_state=100)"
      ],
      "metadata": {
        "id": "rNS1xiRTp6-g"
      },
      "execution_count": 933,
      "outputs": []
    },
    {
      "cell_type": "code",
      "source": [
        "#X_train.shape"
      ],
      "metadata": {
        "id": "hwVZBj1NsMs8"
      },
      "execution_count": 934,
      "outputs": []
    },
    {
      "cell_type": "code",
      "source": [
        "#y_train.shape"
      ],
      "metadata": {
        "id": "trpBgkwPsjox"
      },
      "execution_count": 935,
      "outputs": []
    },
    {
      "cell_type": "markdown",
      "source": [
        "##Definição dos Hiperparâmetros"
      ],
      "metadata": {
        "id": "aLJsngtTMFmD"
      }
    },
    {
      "cell_type": "code",
      "source": [
        "#params = [\n",
        "      #{\n",
        "        #'criterion':['gini','entropy'],\n",
        "        #'max_depth':[None,2,4,8,10,30,50,100]  \n",
        "      #}\n",
        "#]\n",
        "#clf = DecisionTreeClassifier(max_depth=50)\n",
        "#grid_search = GridSearchCV(clf,params,scoring='accuracy')\n",
        "#grid_search.fit(X_train,y_train)\n",
        "#grid_search.best_params_"
      ],
      "metadata": {
        "id": "AGqXy2UcMNuK"
      },
      "execution_count": 936,
      "outputs": []
    },
    {
      "cell_type": "markdown",
      "source": [
        "##Previsões"
      ],
      "metadata": {
        "id": "FobNvQ7SP7eb"
      }
    },
    {
      "cell_type": "code",
      "source": [
        "#clf.fit(X_train,y_train)\n",
        "#pred = clf.predict(X_test)\n",
        "#pred[:10]"
      ],
      "metadata": {
        "id": "joWP8cSIQDTS"
      },
      "execution_count": 937,
      "outputs": []
    },
    {
      "cell_type": "code",
      "source": [
        "#y_test[:10]"
      ],
      "metadata": {
        "id": "obsnwhTLRg3l"
      },
      "execution_count": 938,
      "outputs": []
    },
    {
      "cell_type": "markdown",
      "source": [
        "##Medições de Desempenho"
      ],
      "metadata": {
        "id": "c9gaqOGXSbJn"
      }
    },
    {
      "cell_type": "code",
      "source": [
        "#print(\"Acurácia: %.2f\" % (clf.score(X_test,y_test)))"
      ],
      "metadata": {
        "id": "4QXCrbV26g_S"
      },
      "execution_count": 939,
      "outputs": []
    },
    {
      "cell_type": "code",
      "source": [
        "#clf.score(X_test,y_test)"
      ],
      "metadata": {
        "id": "SXA6yN40SlRj"
      },
      "execution_count": 940,
      "outputs": []
    },
    {
      "cell_type": "code",
      "source": [
        "#print(\"Coeficiente de Kappa: %.2f\" % (kappa(y_test, clf.predict(X_test))) )"
      ],
      "metadata": {
        "id": "IIV7_gn76dnr"
      },
      "execution_count": 941,
      "outputs": []
    },
    {
      "cell_type": "code",
      "source": [
        "#cross = cross_val_score(clf,X_test,y_test,scoring=\"accuracy\")\n",
        "#final = sum(cross) / len(cross)\n",
        "#final"
      ],
      "metadata": {
        "id": "V3Fe1uARS6MQ"
      },
      "execution_count": 942,
      "outputs": []
    },
    {
      "cell_type": "code",
      "source": [
        "#print(classification_report(y_test,pred))"
      ],
      "metadata": {
        "id": "LeirhlAtWBJF"
      },
      "execution_count": 943,
      "outputs": []
    },
    {
      "cell_type": "code",
      "source": [
        "#print(confusion_matrix(y_test,pred))"
      ],
      "metadata": {
        "id": "RB1kWEDQXksF"
      },
      "execution_count": 944,
      "outputs": []
    },
    {
      "cell_type": "markdown",
      "source": [
        "##Árvore de Decisão"
      ],
      "metadata": {
        "id": "ttdwZeitC2mA"
      }
    },
    {
      "cell_type": "code",
      "source": [
        "#fig, axes = plt.subplots(nrows = 1,ncols = 1,figsize = (10,10), dpi=300)\n",
        "#tree.plot_tree(clf,\n",
        "               #feature_names = df.columns, \n",
        "               #class_names=['0','1','2'],\n",
        "               #class_names=df.varietyCat,\n",
        "               #filled = True\n",
        "               #);\n",
        "#Image(\"tree.png\",width=400)"
      ],
      "metadata": {
        "id": "fokwhplGYdUC"
      },
      "execution_count": 945,
      "outputs": []
    },
    {
      "cell_type": "markdown",
      "source": [
        "##Extração das Regras de Produção"
      ],
      "metadata": {
        "id": "uHvYG0KAEQOg"
      }
    },
    {
      "cell_type": "code",
      "source": [
        "!pip install graphviz"
      ],
      "metadata": {
        "id": "X9Pprj7H-aPU",
        "outputId": "7051e9d6-f080-4e3a-9351-ae2ea3cbc904",
        "colab": {
          "base_uri": "https://localhost:8080/"
        }
      },
      "execution_count": 946,
      "outputs": [
        {
          "output_type": "stream",
          "name": "stdout",
          "text": [
            "Requirement already satisfied: graphviz in /usr/local/lib/python3.7/dist-packages (0.10.1)\n"
          ]
        }
      ]
    },
    {
      "cell_type": "code",
      "source": [
        "import graphviz"
      ],
      "metadata": {
        "id": "Yx0xZN7T-ims"
      },
      "execution_count": 947,
      "outputs": []
    },
    {
      "cell_type": "code",
      "source": [
        "#df.columns.drop('grupo')"
      ],
      "metadata": {
        "id": "uSGDch25-l_2"
      },
      "execution_count": 948,
      "outputs": []
    },
    {
      "cell_type": "code",
      "source": [
        "#dot_data = StringIO()\n",
        "#tree_rules = export_text(clf, feature_names = feature_cols) \n",
        "#print(tree_rules)\n",
        "\n",
        "from sklearn.tree import export_text\n",
        "r = export_text(clf, feature_names = feature_cols)\n",
        "print(r)\n",
        "#export_graphviz(clf, out_file=dot_data, filled=True, rounded=True, special_characters=True,feature_names = feature_cols,class_names=acs)\n",
        "  #graph = pydotplus.graph_from_dot_data(dot_data.getvalue())  \n",
        "  #graph.write_png(n_base+'.png')\n",
        "  #Image(graph.create_png())\n",
        "  \n",
        "  #img = cv2.imread(n_base+'.png')\n",
        "  #cv2_imshow(img)\n",
        "#tree.export_graphviz(clf, out_file=None, \n",
        "                      #feature_names=df.columns.drop('varietyCat'),  \n",
        "                      #class_names=['0','1','2'],  \n",
        "                      #filled=True, rounded=True,  \n",
        "                      #special_characters=True)  \n",
        "#graph = graphviz.Source(dot_data)  \n",
        "# graph\n",
        "#graph.render(filename=\"iris\", view=True, format='png')"
      ],
      "metadata": {
        "id": "Jf6lJLWF-AOy",
        "outputId": "3a32cab6-7e68-45df-ef64-966ebccc426a",
        "colab": {
          "base_uri": "https://localhost:8080/"
        }
      },
      "execution_count": 949,
      "outputs": [
        {
          "output_type": "stream",
          "name": "stdout",
          "text": [
            "|--- petal.length <= 0.50\n",
            "|   |--- class: 1\n",
            "|--- petal.length >  0.50\n",
            "|   |--- petal.width <= 2.50\n",
            "|   |   |--- sepal.length <= 2.50\n",
            "|   |   |   |--- class: 0\n",
            "|   |   |--- sepal.length >  2.50\n",
            "|   |   |   |--- sepal.width <= 1.50\n",
            "|   |   |   |   |--- class: 0\n",
            "|   |   |   |--- sepal.width >  1.50\n",
            "|   |   |   |   |--- class: 0\n",
            "|   |--- petal.width >  2.50\n",
            "|   |   |--- sepal.length <= 2.50\n",
            "|   |   |   |--- petal.width <= 3.50\n",
            "|   |   |   |   |--- sepal.width <= 1.50\n",
            "|   |   |   |   |   |--- class: 0\n",
            "|   |   |   |   |--- sepal.width >  1.50\n",
            "|   |   |   |   |   |--- petal.length <= 2.50\n",
            "|   |   |   |   |   |   |--- class: 0\n",
            "|   |   |   |   |   |--- petal.length >  2.50\n",
            "|   |   |   |   |   |   |--- class: 0\n",
            "|   |   |   |--- petal.width >  3.50\n",
            "|   |   |   |   |--- sepal.width <= 1.50\n",
            "|   |   |   |   |   |--- class: 2\n",
            "|   |   |   |   |--- sepal.width >  1.50\n",
            "|   |   |   |   |   |--- class: 2\n",
            "|   |   |--- sepal.length >  2.50\n",
            "|   |   |   |--- class: 2\n",
            "\n"
          ]
        }
      ]
    },
    {
      "cell_type": "code",
      "source": [
        "#from sklearn.tree import export_text\n",
        "#r = export_text(clf, feature_names=['Sepal_Length', 'Sepal_Width', 'Petal_Length', 'Petal_Width'])\n",
        "#print(r)"
      ],
      "metadata": {
        "id": "3ZcWwpG0--O8"
      },
      "execution_count": 950,
      "outputs": []
    },
    {
      "cell_type": "markdown",
      "source": [
        "##Relevância dos Atributos"
      ],
      "metadata": {
        "id": "tQan5Zku8V_J"
      }
    },
    {
      "cell_type": "code",
      "source": [
        "feature_importance=pd.DataFrame({\n",
        "    #'rfc':clf_rf.feature_importances_,\n",
        "    'dt':clf.feature_importances_\n",
        "},#index=df.drop(columns=['grupo']).columns)\n",
        "feature_importance.sort_values(by='dt',ascending=True,inplace=True)\n",
        "\n",
        "index = np.arange(len(feature_importance))\n",
        "fig,ax = plt.subplots(figsize=(5,5))\n",
        "#rfc_feature=ax.barh(index,feature_importance['rfc'],0.4,color='purple',label='Random Forest')\n",
        "dt_feature=ax.barh(index+0.4,feature_importance['dt'],0.4,color='lightgreen',label='Decision Tree')\n",
        "ax.set(yticks=index+0.4,yticklabels=feature_importance.index)\n",
        "ax.set_title(\"Feature importances\")\n",
        "ax.legend()\n",
        "plt.show()"
      ],
      "metadata": {
        "id": "gS2FeM2i8Z4f",
        "outputId": "23868622-9dd8-4d2a-9b73-825d63c94793",
        "colab": {
          "base_uri": "https://localhost:8080/",
          "height": 131
        }
      },
      "execution_count": 951,
      "outputs": [
        {
          "output_type": "error",
          "ename": "SyntaxError",
          "evalue": "ignored",
          "traceback": [
            "\u001b[0;36m  File \u001b[0;32m\"<ipython-input-951-6f469dd0c263>\"\u001b[0;36m, line \u001b[0;32m7\u001b[0m\n\u001b[0;31m    index = np.arange(len(feature_importance))\u001b[0m\n\u001b[0m        ^\u001b[0m\n\u001b[0;31mSyntaxError\u001b[0m\u001b[0;31m:\u001b[0m invalid syntax\n"
          ]
        }
      ]
    }
  ]
}