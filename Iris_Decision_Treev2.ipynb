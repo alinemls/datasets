{
  "nbformat": 4,
  "nbformat_minor": 0,
  "metadata": {
    "colab": {
      "name": "Iris_Decision_Tree.ipynb",
      "provenance": [],
      "collapsed_sections": [],
      "include_colab_link": true
    },
    "kernelspec": {
      "name": "python3",
      "display_name": "Python 3"
    },
    "language_info": {
      "name": "python"
    }
  },
  "cells": [
    {
      "cell_type": "markdown",
      "metadata": {
        "id": "view-in-github",
        "colab_type": "text"
      },
      "source": [
        "<a href=\"https://colab.research.google.com/github/alinemls/datasets/blob/main/Iris_Decision_Treev2.ipynb\" target=\"_parent\"><img src=\"https://colab.research.google.com/assets/colab-badge.svg\" alt=\"Open In Colab\"/></a>"
      ]
    },
    {
      "cell_type": "markdown",
      "metadata": {
        "id": "NoNZstRskRmU"
      },
      "source": [
        "## Importação de Bibliotecas"
      ]
    },
    {
      "cell_type": "code",
      "metadata": {
        "id": "VXs325UPDDBE"
      },
      "source": [
        "import numpy as np\n",
        "import pandas as pd \n",
        "import seaborn as sns\n",
        "import warnings\n",
        "import cv2\n",
        "from sklearn.tree import DecisionTreeClassifier\n",
        "from sklearn.model_selection import train_test_split\n",
        "from sklearn import metrics\n",
        "from sklearn import preprocessing\n",
        "from scipy.stats import randint\n",
        "from mlxtend.plotting import plot_confusion_matrix\n",
        "from sklearn import tree\n",
        "import matplotlib.pyplot as plt\n",
        "from sklearn.metrics import roc_curve, roc_auc_score, f1_score, cohen_kappa_score as kappa, confusion_matrix\n",
        "from numpy.core.numeric import NaN\n",
        "from sklearn.preprocessing import MinMaxScaler\n",
        "from sklearn.preprocessing import StandardScaler\n",
        "from sklearn.model_selection import train_test_split\n",
        "from sklearn.metrics import confusion_matrix\n",
        "from sklearn.preprocessing import KBinsDiscretizer\n",
        "from sklearn.cluster import KMeans\n",
        "from sklearn.tree import export_graphviz\n",
        "from google.colab.patches import cv2_imshow\n",
        "import six\n",
        "import sys\n",
        "sys.modules['sklearn.externals.six'] = six\n",
        "from sklearn.externals.six import StringIO  \n",
        "from IPython.display import Image  \n",
        "import pydotplus\n",
        "from mpl_toolkits.mplot3d import Axes3D\n",
        "\n",
        "#from sklearn.tree import DecisionTreeClassifier as tree\n",
        "\n",
        "warnings.filterwarnings(\"ignore\")\n",
        "\n",
        "# <><><><><><><><> Parâmetros <><><><><><><><>\n",
        "p_normalizacao = 0  # 0(não normalizado), 1(desvio padrão), 2(escala 0 a 1)\n",
        "\n",
        "t_discre = \"uniform\"\n",
        "#‘uniform’: All bins in each feature have identical widths.\n",
        "#‘quantile’: All bins in each feature have the same number of points.\n",
        "#‘kmeans’: Values in each bin have the same nearest center of a 1D k-means cluster.\n",
        "\n",
        "v_variation = 0.15\n",
        "\n",
        "num_grupos = 2   \n",
        "\n",
        "qtd_faixas = 5      # 0(automático) \n",
        "\n",
        "n_base = \"iris\"\n",
        "\n",
        "#t_sel_att = \"Regressao MLP\"\n",
        "# Regressao MLP\n",
        "# Classificador MLP\n",
        "# Mutual Info\n",
        "\n",
        "qtd_teste = 0.3 # Porcentagem de dados para teste no seletor de atributos supervisionado"
      ],
      "execution_count": 1125,
      "outputs": []
    },
    {
      "cell_type": "markdown",
      "source": [
        "##Preparação e Carregamento das bases"
      ],
      "metadata": {
        "id": "f-mP1acj7yLs"
      }
    },
    {
      "cell_type": "code",
      "source": [
        "scaler = StandardScaler()\n",
        "trans = MinMaxScaler()\n",
        "\n",
        "if n_base == \"iris\":\n",
        "  bb = sns.load_dataset(n_base)\n",
        "\n",
        "if n_base == 'seeds':\n",
        "  bb = pd.read_csv(\"/content/drive/MyDrive/bases/seeds.csv\",sep=\",\")\n",
        "\n",
        "if n_base == 'glass':\n",
        "  bb = pd.read_csv(\"/content/drive/MyDrive/bases/glass.csv\",sep=\",\")\n",
        "\n",
        "if n_base == 'wine':\n",
        "  bb = pd.read_csv(\"/content/drive/MyDrive/bases/wine.csv\",sep=\",\")\n",
        "\n",
        "if n_base == 'cancer_mama':\n",
        "  bb = pd.read_csv(\"/content/drive/MyDrive/bases/cancermama.csv\",sep=\",\")\n",
        "  bb = df.iloc[: , :-1]\n",
        "  col_list = list(bb)\n",
        "  columns_titles = ['id', 'fractal_dimension_worst', 'radius_mean', 'texture_mean', 'perimeter_mean', 'area_mean', 'smoothness_mean', 'compactness_mean', 'concavity_mean', 'concave points_mean', 'symmetry_mean', 'fractal_dimension_mean', 'radius_se', 'texture_se', 'perimeter_se', 'area_se', 'smoothness_se', 'compactness_se', 'concavity_se', 'concave points_se', 'symmetry_se', 'fractal_dimension_se', 'radius_worst', 'texture_worst', 'perimeter_worst', 'area_worst', 'smoothness_worst', 'compactness_worst', 'concavity_worst', 'concave points_worst', 'symmetry_worst', 'diagnosis']\n",
        "  bb=bb.reindex(columns=columns_titles)\n",
        "\n",
        "\n",
        "#pin = sns.load_dataset('penguins')\n",
        "#iris.head()\n",
        "#pin.head()\n",
        "#pin.tail()\n",
        "base_original = bb\n",
        "print(\"=========> Base Original <=========\\n\",base_original)\n",
        "\n",
        "#print(\"Descrição dos Dados:\\n\", base_original.describe())\n",
        "\n",
        "# --> Remove nulls <--\n",
        "data = base_original.dropna()\n",
        "data = data.reset_index(drop = True)\n",
        "\n",
        "\n",
        "if(num_grupos == 0): #<><><><><> Se a classe for o grupo <><><><><><>\n",
        "  #print(data.columns[-1])\n",
        "  #data[data.columns[-1]] = data[data.columns[-1]].map({0:'X'}, na_action='ignore')\n",
        "  data[data.columns[-1]].replace(0, 'X', inplace = True)\n",
        "  att_classe = data.iloc[: , -1]\n",
        "  att_classe = att_classe.unique()\n",
        "  qtd_classes = 0\n",
        "  for item in att_classe:\n",
        "    #print(item,i)\n",
        "    #data.replace(to_replace=item, value=str(i))\n",
        "    #data[\"species\"].replace(\"setosa\",\"kjkj\", regex=True)\n",
        "    data[data.columns[-1]].replace({item: qtd_classes}, inplace=True)\n",
        "    qtd_classes = qtd_classes + 1\n",
        "  data.columns = [*data.columns[:-1], 'grupo']\n",
        "else:\n",
        "  # --> Apagar Colunas classe <--\n",
        "  if num_grupos > 0:\n",
        "    #att_classe = \"species\"\n",
        "    data = data.iloc[: , :-1] # Apaga o atributo classe (última coluna)\n",
        "\n",
        "\n",
        "# Apaga o atributo ID\n",
        "if 'ID' in data.columns:    \n",
        "  data = data.drop(columns=[\"ID\"]) \n",
        "if 'id' in data.columns: \n",
        "  data = data.drop(columns=[\"id\"]) \n",
        "\n",
        "base_original = data\n",
        "\n",
        "# --> Normalização <--\n",
        "colunas = list(data.columns.values)\n",
        "#print (colunas) \n",
        "n_normalizacao = \"Sem Normalização\"\n",
        "if(p_normalizacao == 1):\n",
        "  data = scaler.fit_transform(data)\n",
        "  n_normalizacao = \"Desvio Padrão\"\n",
        "if(p_normalizacao == 2):\n",
        "  data = trans.fit_transform(data)\n",
        "  n_normalizacao = \"Escala 0-1\"\n",
        "\n",
        "data = pd.DataFrame(data, columns = colunas)\n",
        "\n",
        "print(\"\\n\\n\\n\")\n",
        "print(\"=========> Base Modificada <=========\\n\",data)\n",
        "#print(\"Descrição dos Dados:\\n\", data.describe())\n"
      ],
      "metadata": {
        "colab": {
          "base_uri": "https://localhost:8080/"
        },
        "id": "W0ODQjMV7730",
        "outputId": "3697689c-c219-4f53-a741-d27cbacf6ed7"
      },
      "execution_count": 1126,
      "outputs": [
        {
          "output_type": "stream",
          "name": "stdout",
          "text": [
            "=========> Base Original <=========\n",
            "      sepal_length  sepal_width  petal_length  petal_width    species\n",
            "0             5.1          3.5           1.4          0.2     setosa\n",
            "1             4.9          3.0           1.4          0.2     setosa\n",
            "2             4.7          3.2           1.3          0.2     setosa\n",
            "3             4.6          3.1           1.5          0.2     setosa\n",
            "4             5.0          3.6           1.4          0.2     setosa\n",
            "..            ...          ...           ...          ...        ...\n",
            "145           6.7          3.0           5.2          2.3  virginica\n",
            "146           6.3          2.5           5.0          1.9  virginica\n",
            "147           6.5          3.0           5.2          2.0  virginica\n",
            "148           6.2          3.4           5.4          2.3  virginica\n",
            "149           5.9          3.0           5.1          1.8  virginica\n",
            "\n",
            "[150 rows x 5 columns]\n",
            "\n",
            "\n",
            "\n",
            "\n",
            "=========> Base Modificada <=========\n",
            "      sepal_length  sepal_width  petal_length  petal_width\n",
            "0             5.1          3.5           1.4          0.2\n",
            "1             4.9          3.0           1.4          0.2\n",
            "2             4.7          3.2           1.3          0.2\n",
            "3             4.6          3.1           1.5          0.2\n",
            "4             5.0          3.6           1.4          0.2\n",
            "..            ...          ...           ...          ...\n",
            "145           6.7          3.0           5.2          2.3\n",
            "146           6.3          2.5           5.0          1.9\n",
            "147           6.5          3.0           5.2          2.0\n",
            "148           6.2          3.4           5.4          2.3\n",
            "149           5.9          3.0           5.1          1.8\n",
            "\n",
            "[150 rows x 4 columns]\n"
          ]
        }
      ]
    },
    {
      "cell_type": "code",
      "source": [
        "bb.drop(labels=['Id'], axis=1, inplace=True, errors='ignore')"
      ],
      "metadata": {
        "id": "v2XSstF6RZNg"
      },
      "execution_count": 1127,
      "outputs": []
    },
    {
      "cell_type": "code",
      "source": [
        "bb.head(5)"
      ],
      "metadata": {
        "id": "6nDn0e3RRcrZ",
        "colab": {
          "base_uri": "https://localhost:8080/",
          "height": 206
        },
        "outputId": "3234ad69-78fb-49de-cd16-c21036f7d52c"
      },
      "execution_count": 1128,
      "outputs": [
        {
          "output_type": "execute_result",
          "data": {
            "text/plain": [
              "   sepal_length  sepal_width  petal_length  petal_width species\n",
              "0           5.1          3.5           1.4          0.2  setosa\n",
              "1           4.9          3.0           1.4          0.2  setosa\n",
              "2           4.7          3.2           1.3          0.2  setosa\n",
              "3           4.6          3.1           1.5          0.2  setosa\n",
              "4           5.0          3.6           1.4          0.2  setosa"
            ],
            "text/html": [
              "\n",
              "  <div id=\"df-f5f507cd-407c-49f6-ac5c-c0fc9af5cd83\">\n",
              "    <div class=\"colab-df-container\">\n",
              "      <div>\n",
              "<style scoped>\n",
              "    .dataframe tbody tr th:only-of-type {\n",
              "        vertical-align: middle;\n",
              "    }\n",
              "\n",
              "    .dataframe tbody tr th {\n",
              "        vertical-align: top;\n",
              "    }\n",
              "\n",
              "    .dataframe thead th {\n",
              "        text-align: right;\n",
              "    }\n",
              "</style>\n",
              "<table border=\"1\" class=\"dataframe\">\n",
              "  <thead>\n",
              "    <tr style=\"text-align: right;\">\n",
              "      <th></th>\n",
              "      <th>sepal_length</th>\n",
              "      <th>sepal_width</th>\n",
              "      <th>petal_length</th>\n",
              "      <th>petal_width</th>\n",
              "      <th>species</th>\n",
              "    </tr>\n",
              "  </thead>\n",
              "  <tbody>\n",
              "    <tr>\n",
              "      <th>0</th>\n",
              "      <td>5.1</td>\n",
              "      <td>3.5</td>\n",
              "      <td>1.4</td>\n",
              "      <td>0.2</td>\n",
              "      <td>setosa</td>\n",
              "    </tr>\n",
              "    <tr>\n",
              "      <th>1</th>\n",
              "      <td>4.9</td>\n",
              "      <td>3.0</td>\n",
              "      <td>1.4</td>\n",
              "      <td>0.2</td>\n",
              "      <td>setosa</td>\n",
              "    </tr>\n",
              "    <tr>\n",
              "      <th>2</th>\n",
              "      <td>4.7</td>\n",
              "      <td>3.2</td>\n",
              "      <td>1.3</td>\n",
              "      <td>0.2</td>\n",
              "      <td>setosa</td>\n",
              "    </tr>\n",
              "    <tr>\n",
              "      <th>3</th>\n",
              "      <td>4.6</td>\n",
              "      <td>3.1</td>\n",
              "      <td>1.5</td>\n",
              "      <td>0.2</td>\n",
              "      <td>setosa</td>\n",
              "    </tr>\n",
              "    <tr>\n",
              "      <th>4</th>\n",
              "      <td>5.0</td>\n",
              "      <td>3.6</td>\n",
              "      <td>1.4</td>\n",
              "      <td>0.2</td>\n",
              "      <td>setosa</td>\n",
              "    </tr>\n",
              "  </tbody>\n",
              "</table>\n",
              "</div>\n",
              "      <button class=\"colab-df-convert\" onclick=\"convertToInteractive('df-f5f507cd-407c-49f6-ac5c-c0fc9af5cd83')\"\n",
              "              title=\"Convert this dataframe to an interactive table.\"\n",
              "              style=\"display:none;\">\n",
              "        \n",
              "  <svg xmlns=\"http://www.w3.org/2000/svg\" height=\"24px\"viewBox=\"0 0 24 24\"\n",
              "       width=\"24px\">\n",
              "    <path d=\"M0 0h24v24H0V0z\" fill=\"none\"/>\n",
              "    <path d=\"M18.56 5.44l.94 2.06.94-2.06 2.06-.94-2.06-.94-.94-2.06-.94 2.06-2.06.94zm-11 1L8.5 8.5l.94-2.06 2.06-.94-2.06-.94L8.5 2.5l-.94 2.06-2.06.94zm10 10l.94 2.06.94-2.06 2.06-.94-2.06-.94-.94-2.06-.94 2.06-2.06.94z\"/><path d=\"M17.41 7.96l-1.37-1.37c-.4-.4-.92-.59-1.43-.59-.52 0-1.04.2-1.43.59L10.3 9.45l-7.72 7.72c-.78.78-.78 2.05 0 2.83L4 21.41c.39.39.9.59 1.41.59.51 0 1.02-.2 1.41-.59l7.78-7.78 2.81-2.81c.8-.78.8-2.07 0-2.86zM5.41 20L4 18.59l7.72-7.72 1.47 1.35L5.41 20z\"/>\n",
              "  </svg>\n",
              "      </button>\n",
              "      \n",
              "  <style>\n",
              "    .colab-df-container {\n",
              "      display:flex;\n",
              "      flex-wrap:wrap;\n",
              "      gap: 12px;\n",
              "    }\n",
              "\n",
              "    .colab-df-convert {\n",
              "      background-color: #E8F0FE;\n",
              "      border: none;\n",
              "      border-radius: 50%;\n",
              "      cursor: pointer;\n",
              "      display: none;\n",
              "      fill: #1967D2;\n",
              "      height: 32px;\n",
              "      padding: 0 0 0 0;\n",
              "      width: 32px;\n",
              "    }\n",
              "\n",
              "    .colab-df-convert:hover {\n",
              "      background-color: #E2EBFA;\n",
              "      box-shadow: 0px 1px 2px rgba(60, 64, 67, 0.3), 0px 1px 3px 1px rgba(60, 64, 67, 0.15);\n",
              "      fill: #174EA6;\n",
              "    }\n",
              "\n",
              "    [theme=dark] .colab-df-convert {\n",
              "      background-color: #3B4455;\n",
              "      fill: #D2E3FC;\n",
              "    }\n",
              "\n",
              "    [theme=dark] .colab-df-convert:hover {\n",
              "      background-color: #434B5C;\n",
              "      box-shadow: 0px 1px 3px 1px rgba(0, 0, 0, 0.15);\n",
              "      filter: drop-shadow(0px 1px 2px rgba(0, 0, 0, 0.3));\n",
              "      fill: #FFFFFF;\n",
              "    }\n",
              "  </style>\n",
              "\n",
              "      <script>\n",
              "        const buttonEl =\n",
              "          document.querySelector('#df-f5f507cd-407c-49f6-ac5c-c0fc9af5cd83 button.colab-df-convert');\n",
              "        buttonEl.style.display =\n",
              "          google.colab.kernel.accessAllowed ? 'block' : 'none';\n",
              "\n",
              "        async function convertToInteractive(key) {\n",
              "          const element = document.querySelector('#df-f5f507cd-407c-49f6-ac5c-c0fc9af5cd83');\n",
              "          const dataTable =\n",
              "            await google.colab.kernel.invokeFunction('convertToInteractive',\n",
              "                                                     [key], {});\n",
              "          if (!dataTable) return;\n",
              "\n",
              "          const docLinkHtml = 'Like what you see? Visit the ' +\n",
              "            '<a target=\"_blank\" href=https://colab.research.google.com/notebooks/data_table.ipynb>data table notebook</a>'\n",
              "            + ' to learn more about interactive tables.';\n",
              "          element.innerHTML = '';\n",
              "          dataTable['output_type'] = 'display_data';\n",
              "          await google.colab.output.renderOutput(dataTable, element);\n",
              "          const docLink = document.createElement('div');\n",
              "          docLink.innerHTML = docLinkHtml;\n",
              "          element.appendChild(docLink);\n",
              "        }\n",
              "      </script>\n",
              "    </div>\n",
              "  </div>\n",
              "  "
            ]
          },
          "metadata": {},
          "execution_count": 1128
        }
      ]
    },
    {
      "cell_type": "code",
      "metadata": {
        "id": "2lhEP9nqMUGU"
      },
      "source": [
        "# Agrupamento pela identificação completa da planta\n",
        "#df.groupby('species').size()"
      ],
      "execution_count": 1129,
      "outputs": []
    },
    {
      "cell_type": "markdown",
      "source": [
        "##Agrupamento com o K-Means"
      ],
      "metadata": {
        "id": "C2OWHZIEsjD3"
      }
    },
    {
      "cell_type": "code",
      "source": [
        "if(num_grupos != 0): #<><><><><> Se a classe for o grupo <><><><><><>\n",
        "\n",
        "  grupos = KMeans(num_grupos, random_state=0).fit(data)\n",
        "\n",
        "  data = base_original\n",
        "\n",
        "  data['grupo'] = grupos.labels_ # Cria uma coluna com o grupo de cada registro\n",
        "  print(\"====> Base com Grupos <====\\n\\n\",data)\n",
        "\n",
        "print('Quantidade de Registros em cada Grupo:\\n', data['grupo'].value_counts())"
      ],
      "metadata": {
        "colab": {
          "base_uri": "https://localhost:8080/"
        },
        "id": "4udXoIyasquR",
        "outputId": "ce23b8d0-49a7-4c42-b97f-78aed20dfc32"
      },
      "execution_count": 1130,
      "outputs": [
        {
          "output_type": "stream",
          "name": "stdout",
          "text": [
            "====> Base com Grupos <====\n",
            "\n",
            "      sepal_length  sepal_width  petal_length  petal_width  grupo\n",
            "0             5.1          3.5           1.4          0.2      0\n",
            "1             4.9          3.0           1.4          0.2      0\n",
            "2             4.7          3.2           1.3          0.2      0\n",
            "3             4.6          3.1           1.5          0.2      0\n",
            "4             5.0          3.6           1.4          0.2      0\n",
            "..            ...          ...           ...          ...    ...\n",
            "145           6.7          3.0           5.2          2.3      1\n",
            "146           6.3          2.5           5.0          1.9      1\n",
            "147           6.5          3.0           5.2          2.0      1\n",
            "148           6.2          3.4           5.4          2.3      1\n",
            "149           5.9          3.0           5.1          1.8      1\n",
            "\n",
            "[150 rows x 5 columns]\n",
            "Quantidade de Registros em cada Grupo:\n",
            " 1    97\n",
            "0    53\n",
            "Name: grupo, dtype: int64\n"
          ]
        }
      ]
    },
    {
      "cell_type": "markdown",
      "metadata": {
        "id": "otz4gu6sfkUM"
      },
      "source": [
        "### Contrução do Modelo"
      ]
    },
    {
      "cell_type": "code",
      "metadata": {
        "id": "6ZWZZMucsaQn",
        "colab": {
          "base_uri": "https://localhost:8080/",
          "height": 867
        },
        "outputId": "f92c36f7-6f69-4108-8aa8-433cb3e3caf5"
      },
      "source": [
        "# definir qual dataset será usado\n",
        "#dataset_model = df.copy()\n",
        "\n",
        "t_saida_arv = 1 # 1 --> Grafica  // 0 --> Texto\n",
        "\n",
        "#print(data)\n",
        "\n",
        "if qtd_faixas != 0:\n",
        "#<><><><><> Discretização <><><><><>\n",
        "  base = data.drop(columns=['grupo']) # Apaga o grupo\n",
        "  col_grupo = data[\"grupo\"]\n",
        "  col_nomes = list(base.columns)\n",
        "\n",
        "  enc = KBinsDiscretizer(n_bins=qtd_faixas, strategy=t_discre, encode=\"ordinal\")\n",
        "  base_d = enc.fit_transform(base)\n",
        "  base_d = pd.DataFrame(base_d,columns=col_nomes) \n",
        "  base_d['grupo'] = col_grupo\n",
        "\n",
        "  #base_d.apply(base_d.to_numeric, errors='ignore')\n",
        "  base_d = base_d.astype(str)\n",
        "\n",
        "  data = base_d\n",
        "  print(\"dados:\\n\",data)\n",
        "  print(data.info())\n",
        "\n",
        "\n",
        "i_col = data.columns.size \n",
        "\n",
        "print(i_col-1)\n",
        "\n",
        "treino, teste = train_test_split(data, test_size = qtd_teste)\n",
        "Y_train = treino.iloc[:, i_col-1]\n",
        "Y_teste = teste.iloc[:, i_col-1]\n",
        "X_train = treino.drop(treino.columns[i_col-1], axis=1)\n",
        "X_teste = teste.drop(teste.columns[i_col-1], axis=1)\n",
        "\n",
        "# Create Decision Tree classifer object\n",
        "clf = DecisionTreeClassifier()\n",
        "\n",
        "# Train Decision Tree Classifer\n",
        "clf = clf.fit(X_train,Y_train)\n",
        "\n",
        "#Predict the response for test dataset\n",
        "y_pred = clf.predict(X_teste)\n",
        "\n",
        "print(\"\\nAcurácia da Árvore:\",metrics.accuracy_score(Y_teste, y_pred), \"\\n\")\n",
        "\n",
        "\n",
        "feature_cols = X_teste.columns.to_list()\n",
        "class_names = Y_teste.unique()\n",
        "\n",
        "if(t_saida_arv == 1):\n",
        "  \n",
        "  acs = [str(x) for x in class_names]\n",
        "  dot_data = StringIO()\n",
        "  export_graphviz(clf, out_file=dot_data, filled=True, rounded=True, special_characters=True,feature_names = feature_cols,class_names=acs)\n",
        "  graph = pydotplus.graph_from_dot_data(dot_data.getvalue())  \n",
        "  graph.write_png(n_base+'.png')\n",
        "  Image(graph.create_png())\n",
        "  \n",
        "  img = cv2.imread(n_base+'.png')\n",
        "  cv2_imshow(img)\n",
        "\n",
        "else:\n",
        "  tree_rules = export_text(clf, feature_names = feature_cols) #print the result\n",
        "  print(tree_rules)\n",
        "\n",
        "print(feature_cols[clf.tree_.feature[0]])\n",
        "print(clf.tree_.threshold[0])"
      ],
      "execution_count": 1131,
      "outputs": [
        {
          "output_type": "stream",
          "name": "stdout",
          "text": [
            "dados:\n",
            "     sepal_length sepal_width petal_length petal_width grupo\n",
            "0            1.0         3.0          0.0         0.0     0\n",
            "1            0.0         2.0          0.0         0.0     0\n",
            "2            0.0         2.0          0.0         0.0     0\n",
            "3            0.0         2.0          0.0         0.0     0\n",
            "4            0.0         3.0          0.0         0.0     0\n",
            "..           ...         ...          ...         ...   ...\n",
            "145          3.0         2.0          3.0         4.0     1\n",
            "146          2.0         1.0          3.0         3.0     1\n",
            "147          3.0         2.0          3.0         3.0     1\n",
            "148          2.0         2.0          3.0         4.0     1\n",
            "149          2.0         2.0          3.0         3.0     1\n",
            "\n",
            "[150 rows x 5 columns]\n",
            "<class 'pandas.core.frame.DataFrame'>\n",
            "RangeIndex: 150 entries, 0 to 149\n",
            "Data columns (total 5 columns):\n",
            " #   Column        Non-Null Count  Dtype \n",
            "---  ------        --------------  ----- \n",
            " 0   sepal_length  150 non-null    object\n",
            " 1   sepal_width   150 non-null    object\n",
            " 2   petal_length  150 non-null    object\n",
            " 3   petal_width   150 non-null    object\n",
            " 4   grupo         150 non-null    object\n",
            "dtypes: object(5)\n",
            "memory usage: 6.0+ KB\n",
            "None\n",
            "4\n",
            "\n",
            "Acurácia da Árvore: 1.0 \n",
            "\n"
          ]
        },
        {
          "output_type": "display_data",
          "data": {
            "text/plain": [
              "<PIL.Image.Image image mode=RGB size=349x260 at 0x7FDBE99831D0>"
            ],
            "image/png": "[encoded data removed]"
          },
          "metadata": {}
        },
        {
          "output_type": "stream",
          "name": "stdout",
          "text": [
            "petal_length\n",
            "1.5\n"
          ]
        }
      ]
    },
    {
      "cell_type": "code",
      "metadata": {
        "id": "IRpTop13O_hI"
      },
      "source": [
        "#X = dataset_model.drop(columns=['species']).values"
      ],
      "execution_count": 1132,
      "outputs": []
    },
    {
      "cell_type": "code",
      "source": [
        "#X"
      ],
      "metadata": {
        "id": "ZfLTRVBtKchS"
      },
      "execution_count": 1133,
      "outputs": []
    },
    {
      "cell_type": "code",
      "metadata": {
        "id": "4tsKhBVgiFqi"
      },
      "source": [
        "# Transformação do atributo categórico em numérico\n",
        "#le = preprocessing.LabelEncoder()\n",
        "#le.fit(dataset_model.species)\n",
        "#y = le.transform(dataset_model['species'].values)\n",
        "#y"
      ],
      "execution_count": 1134,
      "outputs": []
    },
    {
      "cell_type": "code",
      "source": [
        "#unique, counts = np.unique(y, return_counts=True)\n",
        "#dict(zip(unique, counts))"
      ],
      "metadata": {
        "id": "KAIvDu7UHmhp"
      },
      "execution_count": 1135,
      "outputs": []
    },
    {
      "cell_type": "code",
      "metadata": {
        "id": "250e-D3Nf-Pw"
      },
      "source": [
        "# Dividindo o dataset em subconjuntos de treino e teste\n",
        "#X_train, X_test, y_train, y_test = train_test_split(X, y, test_size=0.3)"
      ],
      "execution_count": 1136,
      "outputs": []
    },
    {
      "cell_type": "code",
      "metadata": {
        "id": "aypu9tMjyRK7"
      },
      "source": [
        "#print('X_train =>',X_train.shape)\n",
        "#print('X_test =>',X_test.shape)\n",
        "#print('Y_train =>',y_train.shape)\n",
        "#print('Y_test =>',y_test.shape)"
      ],
      "execution_count": 1137,
      "outputs": []
    },
    {
      "cell_type": "code",
      "metadata": {
        "id": "f6eq1xCEI0HI"
      },
      "source": [
        "# Modelo com DecisionTreeClassifier\n",
        "#clf_dt = DecisionTreeClassifier(criterion='entropy')\n",
        "#clf_dt = clf_dt.fit(X_train, y_train)\n",
        "#y_predict_train = clf_dt.predict(X_train)\n",
        "#y_predict_test = clf_dt.predict(X_test)"
      ],
      "execution_count": 1138,
      "outputs": []
    },
    {
      "cell_type": "code",
      "source": [
        "#X_test"
      ],
      "metadata": {
        "id": "R2xlaHvyRJ80"
      },
      "execution_count": 1139,
      "outputs": []
    },
    {
      "cell_type": "code",
      "source": [
        "#y_predict_all = clf_dt.predict(X)"
      ],
      "metadata": {
        "id": "kW-8GNP9Lgdt"
      },
      "execution_count": 1140,
      "outputs": []
    },
    {
      "cell_type": "code",
      "source": [
        "#df['y'] = y_predict_all"
      ],
      "metadata": {
        "id": "jR_pedDIOGD_"
      },
      "execution_count": 1141,
      "outputs": []
    },
    {
      "cell_type": "code",
      "source": [
        "#df.head(10)"
      ],
      "metadata": {
        "id": "0r5ixBWrORTg"
      },
      "execution_count": 1142,
      "outputs": []
    },
    {
      "cell_type": "code",
      "source": [
        "#df.groupby('y').size()"
      ],
      "metadata": {
        "id": "XypFTedHOWOs"
      },
      "execution_count": 1143,
      "outputs": []
    },
    {
      "cell_type": "code",
      "metadata": {
        "colab": {
          "base_uri": "https://localhost:8080/"
        },
        "id": "oYPZISBhoOuE",
        "outputId": "68d2345d-4424-46f7-f027-9e232da62e3d"
      },
      "source": [
        "# Checando a acurácia manualmente\n",
        "print(\"Acurácia manual: %.2f\" % np.mean(y_pred == Y_teste))"
      ],
      "execution_count": 1144,
      "outputs": [
        {
          "output_type": "stream",
          "name": "stdout",
          "text": [
            "Acurácia manual: 1.00\n"
          ]
        }
      ]
    },
    {
      "cell_type": "code",
      "metadata": {
        "id": "yBQ73ZFboJGe"
      },
      "source": [
        "# Avaliação\n",
        "#accuracy = metrics.accuracy_score(y_test, y_predict_test)\n",
        "#print(\"DecisionTree\")\n",
        "#print(\"Accuracy: %.2f\" % (accuracy))\n",
        "#print(\"Coeficiente de Kappa: %.2f\" % (kappa(y_test, clf_dt.predict(X_test))) )\n",
        "#print(\"F1 Score train: %.2f\" % f1_score(y_train, y_predict_train))\n",
        "#print(\"F1 Score test: %.2f\" % f1_score(y_test, y_predict_test))"
      ],
      "execution_count": 1145,
      "outputs": []
    },
    {
      "cell_type": "code",
      "metadata": {
        "id": "CafYDWhPgaV7",
        "colab": {
          "base_uri": "https://localhost:8080/",
          "height": 314
        },
        "outputId": "619518ee-f64c-4b77-f018-368b1f48822f"
      },
      "source": [
        "# Gerar a matrix de confusão NxN\n",
        "conf_mat = confusion_matrix(Y_teste, y_pred)\n",
        "plot_confusion_matrix(conf_mat,figsize=(12,4),cmap='copper_r')"
      ],
      "execution_count": 1146,
      "outputs": [
        {
          "output_type": "execute_result",
          "data": {
            "text/plain": [
              "(<Figure size 864x288 with 1 Axes>,\n",
              " <matplotlib.axes._subplots.AxesSubplot at 0x7fdbe8350f50>)"
            ]
          },
          "metadata": {},
          "execution_count": 1146
        },
        {
          "output_type": "display_data",
          "data": {
            "text/plain": [
              "<Figure size 864x288 with 1 Axes>"
            ],
            "image/png": "[encoded data removed]"
          },
          "metadata": {
            "needs_background": "light"
          }
        }
      ]
    },
    {
      "cell_type": "code",
      "metadata": {
        "id": "hidVQktVg_Yw"
      },
      "source": [
        "#!pip install mlxtend --upgrade"
      ],
      "execution_count": 1147,
      "outputs": []
    },
    {
      "cell_type": "code",
      "metadata": {
        "id": "dWlpvb-WiL04"
      },
      "source": [
        "# Gerar a árvore para exibição\n",
        "\n",
        "#fig, axes = plt.subplots(nrows = 1,ncols = 1,figsize = (10,10), dpi=300)\n",
        "#tree.plot_tree(clf_dt,\n",
        "               #feature_names = df.columns, \n",
        "               #class_names=['a','b'],\n",
        "               #class_names=df.species,\n",
        "               #filled = True\n",
        "               #)\n",
        "# fig.savefig('tree.png')\n"
      ],
      "execution_count": 1148,
      "outputs": []
    },
    {
      "cell_type": "code",
      "source": [
        "!pip install graphviz"
      ],
      "metadata": {
        "colab": {
          "base_uri": "https://localhost:8080/"
        },
        "id": "H7ya3-PMKVho",
        "outputId": "7a8bce88-b46d-49df-ccbd-2689c2e001da"
      },
      "execution_count": 1149,
      "outputs": [
        {
          "output_type": "stream",
          "name": "stdout",
          "text": [
            "Requirement already satisfied: graphviz in /usr/local/lib/python3.7/dist-packages (0.10.1)\n"
          ]
        }
      ]
    },
    {
      "cell_type": "code",
      "source": [
        "import graphviz"
      ],
      "metadata": {
        "id": "YFfF_h5ASmoE"
      },
      "execution_count": 1150,
      "outputs": []
    },
    {
      "cell_type": "code",
      "source": [
        "data.columns.drop('grupo')"
      ],
      "metadata": {
        "colab": {
          "base_uri": "https://localhost:8080/"
        },
        "id": "PHnh-JyyMCK2",
        "outputId": "043bf922-c7b5-4f18-b5ec-4c567c9c2132"
      },
      "execution_count": 1151,
      "outputs": [
        {
          "output_type": "execute_result",
          "data": {
            "text/plain": [
              "Index(['sepal_length', 'sepal_width', 'petal_length', 'petal_width'], dtype='object')"
            ]
          },
          "metadata": {},
          "execution_count": 1151
        }
      ]
    },
    {
      "cell_type": "code",
      "source": [
        "dot_data = tree.export_graphviz(clf, out_file=None, \n",
        "                      feature_names=data.columns.drop('grupo'),  \n",
        "                      class_names=bb.species,  \n",
        "                      filled=True, rounded=True,  \n",
        "                      special_characters=True)  \n",
        "graph = graphviz.Source(dot_data)  \n",
        "#graph\n",
        "graph.render(filename=\"iris\", view=True, format='png')"
      ],
      "metadata": {
        "colab": {
          "base_uri": "https://localhost:8080/",
          "height": 35
        },
        "id": "0VaV26_5KiBp",
        "outputId": "6f03325a-d437-458f-a6a7-bae60d49721f"
      },
      "execution_count": 1152,
      "outputs": [
        {
          "output_type": "execute_result",
          "data": {
            "text/plain": [
              "'iris.png'"
            ],
            "application/vnd.google.colaboratory.intrinsic+json": {
              "type": "string"
            }
          },
          "metadata": {},
          "execution_count": 1152
        }
      ]
    },
    {
      "cell_type": "code",
      "source": [
        "from sklearn.tree import export_text\n",
        "r = export_text(clf, feature_names=['Sepal_Length', 'Sepal_Width', 'Petal_Length', 'Petal_Width'])\n",
        "print(r)"
      ],
      "metadata": {
        "colab": {
          "base_uri": "https://localhost:8080/"
        },
        "id": "Y2uDMX8EMX5x",
        "outputId": "7b365c66-1710-43fe-9997-28f8ac9b42ca"
      },
      "execution_count": 1153,
      "outputs": [
        {
          "output_type": "stream",
          "name": "stdout",
          "text": [
            "|--- Petal_Length <= 1.50\n",
            "|   |--- class: 0\n",
            "|--- Petal_Length >  1.50\n",
            "|   |--- class: 1\n",
            "\n"
          ]
        }
      ]
    },
    {
      "cell_type": "code",
      "metadata": {
        "id": "4jezaZwHNzSl",
        "colab": {
          "base_uri": "https://localhost:8080/",
          "height": 336
        },
        "outputId": "b2ece1f0-4670-4b23-f881-912f47f179aa"
      },
      "source": [
        "# Feature importances\n",
        "\n",
        "feature_importance=pd.DataFrame({\n",
        "    #'rfc':clf_rf.feature_importances_,\n",
        "    'dt':clf.feature_importances_\n",
        "},index=data.drop(columns=['grupo']).columns)\n",
        "feature_importance.sort_values(by='dt',ascending=True,inplace=True)\n",
        "\n",
        "index = np.arange(len(feature_importance))\n",
        "fig, ax = plt.subplots(figsize=(5,5))\n",
        "#rfc_feature=ax.barh(index,feature_importance['rfc'],0.4,color='purple',label='Random Forest')\n",
        "dt_feature=ax.barh(index+0.4,feature_importance['dt'],0.4,color='lightgreen',label='Decision Tree')\n",
        "ax.set(yticks=index+0.4,yticklabels=feature_importance.index)\n",
        "ax.set_title(\"Feature importances\")\n",
        "ax.legend()\n",
        "plt.show()\n"
      ],
      "execution_count": 1154,
      "outputs": [
        {
          "output_type": "display_data",
          "data": {
            "text/plain": [
              "<Figure size 360x360 with 1 Axes>"
            ],
            "image/png": "[encoded data removed]"
          },
          "metadata": {
            "needs_background": "light"
          }
        }
      ]
    }
  ]
}